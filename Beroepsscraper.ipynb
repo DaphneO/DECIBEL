{
 "cells": [
  {
   "cell_type": "code",
   "execution_count": 23,
   "metadata": {},
   "outputs": [
    {
     "data": {
      "text/plain": [
       "[<selenium.webdriver.firefox.webelement.FirefoxWebElement (session=\"482b53c1-cc6e-43ff-900e-416e96968a09\", element=\"22420e31-9cb7-471d-b119-fcb0beddb23f\")>]"
      ]
     },
     "execution_count": 23,
     "metadata": {},
     "output_type": "execute_result"
    }
   ],
   "source": [
    "import urllib2\n",
    "import re\n",
    "from selenium import webdriver\n",
    "\n",
    "browser = webdriver.Firefox()\n",
    "url = 'https://berufenet.arbeitsagentur.de/berufenet/faces/index;BERUFENETJSESSIONID=EFRVwwRmUXC-AyYSBf8yi_kh7pEO2Bx4vi2wgQzTiBpBLwvt0wGK!-1591853197?path=null/suchergebnisse/kurzbeschreibung/berufkompetenzen&dkz=3726'\n",
    "browser.get(url)\n",
    "x = browser.find_elements_by_xpath('//*[@id=\"b20-32_1_Content_1\"]')\n",
    "# response = urllib2.urlopen(url)\n",
    "# html = response.read()\n",
    "# s = re.match('<li id=\"b20-32_0_Content_1_Item_1\">.*</li>', html)\n",
    "# print html"
   ]
  },
  {
   "cell_type": "code",
   "execution_count": 10,
   "metadata": {},
   "outputs": [],
   "source": []
  }
 ],
 "metadata": {
  "kernelspec": {
   "display_name": "Python 2",
   "language": "python",
   "name": "python2"
  },
  "language_info": {
   "codemirror_mode": {
    "name": "ipython",
    "version": 2
   },
   "file_extension": ".py",
   "mimetype": "text/x-python",
   "name": "python",
   "nbconvert_exporter": "python",
   "pygments_lexer": "ipython2",
   "version": "2.7.14"
  }
 },
 "nbformat": 4,
 "nbformat_minor": 2
}
